{
 "cells": [
  {
   "cell_type": "markdown",
   "id": "0c9ef91e",
   "metadata": {},
   "source": [
    "# Imports"
   ]
  },
  {
   "cell_type": "code",
   "execution_count": 1,
   "id": "490abcfd",
   "metadata": {},
   "outputs": [],
   "source": [
    "from sat import *\n",
    "from px import *\n",
    "from run_px_experiments import parse_output\n",
    "\n",
    "import networkx as nx\n",
    "import matplotlib.pyplot as plt\n",
    "import numpy as np\n",
    "\n",
    "#PROBLEM_FILE = './toy_sat_problems/toy_sat1.cnf'\n",
    "#SOLUTIONS_FILE = './toy_sat_problems/toy_sat_1_solutions.txt'\n",
    "\n",
    "#PROBLEM_FILE = './toy_sat_problems/toy_sat2.cnf'\n",
    "#SOLUTIONS_FILE = './toy_sat_problems/toy_sat_2_solutions.txt'\n",
    "\n",
    "#PROBLEM_FILE = './toy_sat_problems/toy_sat3.cnf'\n",
    "#SOLUTIONS_FILE = './toy_sat_problems/toy_sat_3_solutions.txt'\n",
    "\n",
    "#PROBLEM_FILE = './toy_sat_problems/paper_example.cnf'\n",
    "#SOLUTIONS_FILE = './toy_sat_problems/paper_example_solutions.txt'\n",
    "\n",
    "PROBLEM_FILE = './sat_problems/trial_problems/rbcl_xits_08_UNSAT.cnf'\n",
    "SOLUTIONS_FILE = './results/ubcsat_outputs/rbcl_xits_08_UNSAT.txt'"
   ]
  },
  {
   "cell_type": "code",
   "execution_count": null,
   "id": "f0362d26",
   "metadata": {},
   "outputs": [],
   "source": [
    "def draw_graph(graph, node_size=400):\n",
    "    nx.draw(graph, with_labels=True, node_color='white', node_size=node_size)\n",
    "    ax = plt.gca() # to get the current axis\n",
    "    ax.collections[0].set_edgecolor(\"#000000\") "
   ]
  },
  {
   "cell_type": "markdown",
   "id": "dce6de0d",
   "metadata": {},
   "source": [
    "# Load Problems / Solutions"
   ]
  },
  {
   "cell_type": "code",
   "execution_count": 2,
   "id": "5eed12f2",
   "metadata": {},
   "outputs": [
    {
     "name": "stdout",
     "output_type": "stream",
     "text": [
      "Wall time: 575 ms\n"
     ]
    },
    {
     "data": {
      "text/plain": [
       "SAT(n = 1278, m = 68055, k = 9, name = 'rbcl_xits_08_UNSAT.cnf')"
      ]
     },
     "execution_count": 2,
     "metadata": {},
     "output_type": "execute_result"
    }
   ],
   "source": [
    "%%time\n",
    "sat = read_sat_problem(PROBLEM_FILE)\n",
    "\n",
    "#print('Clause #, Variables')\n",
    "#for i in range(len(sat.clauses)):\n",
    "#    print(i, sat.clauses[i])\n",
    "\n",
    "#print('\\nVariable #, Clauses')\n",
    "#sat.create_var_to_clause_dict()\n",
    "#print(sat.var_to_clause_dict)\n",
    "\n",
    "#print('\\nUnique Variables')\n",
    "#print(sat.unique_vars)\n",
    "\n",
    "sat"
   ]
  },
  {
   "cell_type": "code",
   "execution_count": 3,
   "id": "a022e95a",
   "metadata": {},
   "outputs": [
    {
     "name": "stdout",
     "output_type": "stream",
     "text": [
      "(20, 1278)\n",
      "P1 Unsat: 10\n",
      "P2 Unsat: 8\n",
      "\n",
      "P1 Score: 68045\n",
      "P2 Score: 68047\n",
      "Wall time: 1.13 s\n"
     ]
    }
   ],
   "source": [
    "%%time\n",
    "solutions = parse_output(SOLUTIONS_FILE)\n",
    "\n",
    "print(solutions.shape)\n",
    "\n",
    "p1 = solutions[6]\n",
    "p2 = solutions[7]\n",
    "\n",
    "p1_unsat = np.argwhere(~(sat.evaluate_solution(p1))).flatten()\n",
    "p2_unsat = np.argwhere(~(sat.evaluate_solution(p2))).flatten()\n",
    "print(f'P1 Unsat: {len(p1_unsat)}')\n",
    "print(f'P2 Unsat: {len(p2_unsat)}')\n",
    "\n",
    "print('')\n",
    "print(f'P1 Score: {sat.score_solution(p1)}')\n",
    "print(f'P2 Score: {sat.score_solution(p2)}')\n",
    "\n",
    "assert(sat.m - sat.score_solution(p1) == len(p1_unsat))\n",
    "assert(sat.m - sat.score_solution(p2) == len(p2_unsat))"
   ]
  },
  {
   "cell_type": "code",
   "execution_count": null,
   "id": "aa6fa7b3",
   "metadata": {},
   "outputs": [],
   "source": [
    "\"\"\"with open(SOLUTIONS_FILE) as solutions_file:\n",
    "    solutions = [line.strip() for line in solutions_file.readlines()]\n",
    "    \n",
    "print(f'P1 Bitstring: {solutions[0]}')\n",
    "print(f'P2 Bitstring: {solutions[1]}')\n",
    "print('')\n",
    "\n",
    "p1 = bitstring_to_int_array(solutions[0])\n",
    "p2 = bitstring_to_int_array(solutions[1])\n",
    "print(f'P1 Assignments: {p1}')\n",
    "print(f'P2 Assignments: {p2}')\n",
    "print('')\n",
    "\n",
    "p1_unsat = np.argwhere(~(sat.evaluate_solution(p1))).flatten()\n",
    "p2_unsat = np.argwhere(~(sat.evaluate_solution(p2))).flatten()\n",
    "print(f'P1 Unsat Clauses: {p1_unsat}, {sat.clauses[p1_unsat]}')\n",
    "print(f'P2 Unsat Clauses: {p2_unsat}, {sat.clauses[p2_unsat]}')\n",
    "print('')\n",
    "\n",
    "print(f'P1 Score: {sat.score_solution(p1)}')\n",
    "print(f'P2 Score: {sat.score_solution(p2)}')\"\"\""
   ]
  },
  {
   "cell_type": "markdown",
   "id": "728f2e10",
   "metadata": {},
   "source": [
    "# PX"
   ]
  },
  {
   "cell_type": "code",
   "execution_count": null,
   "id": "fa162b13",
   "metadata": {},
   "outputs": [],
   "source": [
    "pos = {\n",
    " 1: (108, 115),\n",
    " 2: (86, 78),\n",
    " 3: (109, 137),\n",
    " 4: (127, 70),\n",
    " 5: (90, 61),\n",
    " 6: (68, 104),\n",
    " 7: (18, 60),\n",
    " 8: (30, 104),\n",
    " 9: (166, 24),\n",
    " 10: (66, 64),\n",
    " 11: (102, 24),\n",
    " 12: (43, 42),\n",
    " 13: (42, 68),\n",
    " 14: (163, 70),\n",
    " 15: (18, 39),\n",
    " 16: (102, 49),\n",
    " 17: (69, 38),\n",
    " 18: (31, 81)\n",
    "}\n",
    "\n",
    "colors = []\n",
    "for node in vig.nodes():\n",
    "    if node in [7,13,15]:\n",
    "        colors.append(-1)\n",
    "    elif node in [12,18]:\n",
    "        colors.append(-0.5)\n",
    "    else:\n",
    "        colors.append(0)\n",
    "#colors = [1 if node in [7,13,15] else 0 for node in vig.nodes()]\n",
    "\n",
    "nx.draw(vig, with_labels=True, node_color=colors, cmap='RdYlGn', vmin=-1.0, vmax=1.0, node_size=400, pos=pos)\n",
    "ax = plt.gca() # to get the current axis\n",
    "ax.collections[0].set_edgecolor(\"#000000\") "
   ]
  },
  {
   "cell_type": "code",
   "execution_count": 4,
   "id": "85d6a6ca",
   "metadata": {},
   "outputs": [
    {
     "name": "stdout",
     "output_type": "stream",
     "text": [
      "1278 46395 1\n",
      "Wall time: 707 ms\n"
     ]
    }
   ],
   "source": [
    "%%time\n",
    "vig = get_vig(sat)\n",
    "\n",
    "print(vig.number_of_nodes(), \n",
    "      vig.number_of_edges(), \n",
    "      nx.number_connected_components(vig))\n",
    "\n",
    "#draw_graph(vig)"
   ]
  },
  {
   "cell_type": "code",
   "execution_count": 5,
   "id": "1ded9638",
   "metadata": {},
   "outputs": [
    {
     "name": "stdout",
     "output_type": "stream",
     "text": [
      "154 458 1\n",
      "Wall time: 195 ms\n"
     ]
    }
   ],
   "source": [
    "%%time\n",
    "decomposed_vig = decompose_vig(vig, p1, p2)\n",
    "\n",
    "print(decomposed_vig.number_of_nodes(), \n",
    "      decomposed_vig.number_of_edges(), \n",
    "      nx.number_connected_components(decomposed_vig))\n",
    "\n",
    "#draw_graph(decomposed_vig)"
   ]
  },
  {
   "cell_type": "code",
   "execution_count": 6,
   "id": "5ba523d4",
   "metadata": {},
   "outputs": [
    {
     "name": "stdout",
     "output_type": "stream",
     "text": [
      "\n",
      "New Solution: [  -1   -2    3 ... 1276 1277 1278]\n",
      "New Solution Score: 68047\n",
      "Remaining Unsatisfied Clauses: [{2, 163, 71, 140, 48, 117, 25, 186, 94}\n",
      " {97, 5, 166, 74, 143, 51, 120, 28, 189}\n",
      " {33, 194, 102, 10, 171, 79, 148, 56, 125}\n",
      " {34, 195, 103, 11, 172, 80, 149, 57, 126}\n",
      " {129, 37, 198, 106, 14, 175, 83, 152, 60}\n",
      " {131, 39, 200, 108, 16, 177, 85, 154, 62} {-239, 262} {-21, -20, -19}]\n",
      "Wall time: 747 ms\n"
     ]
    }
   ],
   "source": [
    "%%time\n",
    "new_solution = partition_crossover(sat, decomposed_vig, p1, p2, none_fill='p1', verbose=2)\n",
    "\n",
    "print('')\n",
    "print(f'New Solution: {new_solution}')\n",
    "print(f'New Solution Score: {sat.score_solution(new_solution)}')\n",
    "print(f'Remaining Unsatisfied Clauses: {sat.clauses[~sat.evaluate_solution(new_solution)]}')"
   ]
  },
  {
   "cell_type": "markdown",
   "id": "0b1eac7f",
   "metadata": {},
   "source": [
    "# PX Prime on P1"
   ]
  },
  {
   "cell_type": "code",
   "execution_count": 7,
   "id": "9f3459e5",
   "metadata": {},
   "outputs": [
    {
     "name": "stdout",
     "output_type": "stream",
     "text": [
      "[3,4] Length of Init SWAPC: 9\n",
      "[5] Length of Init VAR: 60\n",
      "[5] Length of No Common Variables VAR: 8\n",
      "Length of sat_by_common: 67542\n",
      "[6] Length of SWAPC: 3341\n",
      "[7] Length of SWAPC: 98\n",
      "[8] Length of VAR: 26\n",
      "[6] Length of SWAPC: 8283\n",
      "[7] Length of SWAPC: 163\n",
      "[8] Length of VAR: 51\n",
      "[6] Length of SWAPC: 9710\n",
      "[7] Length of SWAPC: 232\n",
      "[8] Length of VAR: 71\n",
      "[6] Length of SWAPC: 10821\n",
      "[7] Length of SWAPC: 269\n",
      "[8] Length of VAR: 88\n",
      "[6] Length of SWAPC: 11934\n",
      "[7] Length of SWAPC: 312\n",
      "[8] Length of VAR: 101\n",
      "[6] Length of SWAPC: 11982\n",
      "[7] Length of SWAPC: 334\n",
      "[8] Length of VAR: 110\n",
      "[6] Length of SWAPC: 12010\n",
      "[7] Length of SWAPC: 344\n",
      "[8] Length of VAR: 115\n",
      "[6] Length of SWAPC: 12028\n",
      "[7] Length of SWAPC: 352\n",
      "[8] Length of VAR: 119\n",
      "[6] Length of SWAPC: 12042\n",
      "[7] Length of SWAPC: 358\n",
      "[8] Length of VAR: 122\n",
      "[6] Length of SWAPC: 12048\n",
      "[7] Length of SWAPC: 358\n",
      "[8] Length of VAR: 122\n",
      "Loop ran 10 times\n",
      "\n",
      "[{162} {2} {3, 95} {6} {191} {9, 147} {10} {11} {81} {128, 36} {60} {153}\n",
      " {85} {132, 109} {19, 203} {45, 183} {69} {209, -2} {2, -209} {210, -3}\n",
      " {3, -210} {-6, 213} {-213, 6} {216, -9} {-216, 9} {217, -10} {10, -217}\n",
      " {218, -11} {11, -218} {-11, -10, -9} {-95, -109} {226, -19} {19, -226}\n",
      " {-95, -109} {-95, -109} {-95, -109} {-95, -109} {-191, -203} {-95, -302}\n",
      " {-191, -203} {-191, -203} {-191, -203} {-191, -203} {-128, -335}\n",
      " {-132, -339} {-191, -203} {-191, -203} {-191, -203} {-191, -203}\n",
      " {-162, -369} {-191, -203} {-85, -81} {-183, -390} {-85, -81} {-191, -398}\n",
      " {-85, -81} {-203, -410} {-85, -81} {-231} {-232, 209, 2} {232, -209}\n",
      " {232, -2} {210, 3, -233} {233, -210} {233, -3} {-85, -81} {-236, 213, 6}\n",
      " {-213, 236} {-6, 236} {-85, -81} {216, -239, 9} {-216, 239} {239, -9}\n",
      " {-240, 217, 10} {240, -217} {240, -10} {218, 11, -241} {241, -218}\n",
      " {241, -11} {226, 19, -249} {249, -226} {249, -19} {-254, 231} {-231, 254}\n",
      " {232, -255} {-232, 255} {-256, 233} {256, -233} {236, -259} {259, -236}\n",
      " {-239} {240, -263} {-240, 263} {-264, 241} {264, -241} {36, -266}\n",
      " {266, -36} {-272, 249} {272, -249} {-275, 45} {275, -45} {-277, 254}\n",
      " {-254, 277} {-278, 255} {-255, 278} {256, -279} {-256, 279} {259, -282}\n",
      " {282, -259} {-286, 263} {-263, 286} {264, -287} {-264, 287} {266, -289}\n",
      " {289, -266} {60, -290} {290, -60} {272, -295} {-272, 295} {275, -298}\n",
      " {298, -275} {-299, 69} {299, -69} {-300, 277} {-277, 300} {-301, 278}\n",
      " {-278, 301} {-302, 279} {-279, 302} {282, -305} {305, -282} {-306}\n",
      " {-309, 286} {-286, 309} {-310, 287} {-287, 310} {81, -311} {311, -81}\n",
      " {-312, 289} {312, -289} {290, -313} {313, -290} {-315, 85} {315, -85}\n",
      " {-318, 295} {-295, 318} {298, -321} {321, -298} {299, -322} {322, -299}\n",
      " {300, -323} {323, -300} {-324, 301} {-301, 324} {302, 95} {-328, 305}\n",
      " {328, -305} {306, -329} {329, -306} {-128, -132} {-332, 309} {-309, 332}\n",
      " {-128, -132} {-333, 310} {-310, 333} {-334, 311} {-311, 334} {312, -335}\n",
      " {-312, 335} {-128, -132} {-336, 313} {336, -313} {315, -338} {338, -315}\n",
      " {-128, -132} {109, -339} {339, -109} {-341, 318} {-318, 341} {-128, -132}\n",
      " {-344, 321} {344, -321} {-128, -132} {322, -345} {345, -322} {323, -346}\n",
      " {346, -323} {324, -347} {347, -324} {-128, -132} {-128, -132} {328, -351}\n",
      " {-328, 351} {-352, 329} {352, -329} {-128, -132} {332, -355} {355, -332}\n",
      " {-356, 333} {-333, 356} {-357, 334} {-334, 357} {128, 335} {336, -359}\n",
      " {-336, 359} {338, -361} {361, -338} {339, 132} {-364, 341} {-341, 364}\n",
      " {344, -367} {-344, 367} {-368, 345} {368, -345} {-6, -10} {346, -369}\n",
      " {369, -346} {347, -370} {370, -347} {-6, -11} {-374, 351} {-351, 374}\n",
      " {352, -375} {-352, 375} {147, -377} {377, -147} {355, -378} {378, -355}\n",
      " {356, -379} {379, -356} {-380, 357} {-357, 380} {-6, -10, -9} {-382, 359}\n",
      " {-359, 382} {153} {-6, -11, -9} {-384, 361} {384, -361} {364, -387}\n",
      " {387, -364} {-390, 367} {-367, 390} {368, -391} {-368, 391} {369, 162}\n",
      " {-6, -11, -10} {370, -393} {393, -370} {-397, 374} {-374, 397}\n",
      " {-398, 375} {-375, 398} {-400, 377} {400, -377} {378, -401} {401, -378}\n",
      " {379, -402} {402, -379} {380, -403} {403, -380} {-405, 382} {-382, 405}\n",
      " {384, -407} {-384, 407} {387, -410} {410, -387} {390, 183} {-414, 391}\n",
      " {-391, 414} {-3, -2} {-6, -3, -2} {-3, -2} {-3, -2, -9} {-3, -2, -10}\n",
      " {-128, -132} {-3, -11, -2} {-128, -132} {-128, -132} {-128, -132}\n",
      " {-3, -2} {-3, -19, -2} {-3, -2} {-183, -162} {-3, -2} {-183, -162}\n",
      " {-183, -162} {-183, -162} {-45, -36} {-183, -162} {-45, -36} {-183, -162}\n",
      " {-45, -36} {-45, -36} {-45, -36} {-147, -153} {-147, -153} {-147, -153}\n",
      " {-147, -153} {-45, -36} {-45, -36} {-45, -36} {-45, -36} {-45, -36}\n",
      " {-45, -36} {-95, -109} {-95, -109} {-95, -109} {-95, -109} {-95, -109}\n",
      " {-95, -109} {-95, -109} {-95, -109} {-69, -60} {-69, -60} {-69, -60}\n",
      " {-69, -60} {-69, -60} {-69, -60} {-69, -60} {-69, -60} {-85, -81}\n",
      " {-85, -81} {-85, -81} {-147, -153} {-147, -153} {-147, -153} {-147, -153}\n",
      " {-147, -153} {-147, -153} {-147, -153} {-69, -60} {-69, -60} {-69, -60}\n",
      " {-69, -60} {-69, -60} {-10, -9} {-69, -60} {-11, -9} {-69, -60}\n",
      " {-69, -60} {-183, -162} {-183, -162} {-191, -203} {-183, -162}\n",
      " {-191, -203} {-183, -162} {-191, -203} {-183, -162} {-191, -203}\n",
      " {-183, -162} {-191, -203} {-183, -162} {-191, -203} {-19} {-183, -162}\n",
      " {-191, -203} {-191, -203}]\n",
      "{2, 3, 6, 9, 10, 11, 19, 36, 45, 60, 69, 81, 85, 95, 109, 128, 132, 147, 153, 162, 183, 191, 203, 209, 210, 213, 216, 217, 218, 226, 231, 232, 233, 236, 239, 240, 241, 249, 254, 255, 256, 259, 263, 264, 266, 272, 275, 277, 278, 279, 282, 286, 287, 289, 290, 295, 298, 299, 300, 301, 302, 305, 306, 309, 310, 311, 312, 313, 315, 318, 321, 322, 323, 324, 328, 329, 332, 333, 334, 335, 336, 338, 339, 341, 344, 345, 346, 347, 351, 352, 355, 356, 357, 359, 361, 364, 367, 368, 369, 370, 374, 375, 377, 378, 379, 380, 382, 384, 387, 390, 391, 393, 397, 398, 400, 401, 402, 403, 405, 407, 410, 414}\n",
      "Wall time: 566 ms\n"
     ]
    },
    {
     "data": {
      "text/plain": [
       "SAT(n = 122, m = 358, k = 3, name = 'decomposed_rbcl_xits_08_UNSAT.cnf')"
      ]
     },
     "execution_count": 7,
     "metadata": {},
     "output_type": "execute_result"
    }
   ],
   "source": [
    "%%time\n",
    "decomposed_sat, iterations = decompose_problem(sat, p1, p2, p1_unsat, p2_unsat, init_method='p1', verbose=1)\n",
    "\n",
    "print('')\n",
    "print(decomposed_sat.clauses)\n",
    "print(decomposed_sat.unique_vars)\n",
    "\n",
    "decomposed_sat"
   ]
  },
  {
   "cell_type": "code",
   "execution_count": 8,
   "id": "3c28a56d",
   "metadata": {},
   "outputs": [
    {
     "name": "stdout",
     "output_type": "stream",
     "text": [
      "122 142 3\n",
      "Wall time: 2.03 ms\n"
     ]
    }
   ],
   "source": [
    "%%time\n",
    "vig_prime = get_vig(decomposed_sat, verbose=False)\n",
    "\n",
    "print(vig_prime.number_of_nodes(), \n",
    "      vig_prime.number_of_edges(), \n",
    "      nx.number_connected_components(vig_prime))\n",
    "\n",
    "#draw_graph(vig_prime)"
   ]
  },
  {
   "cell_type": "code",
   "execution_count": 9,
   "id": "c1b87428",
   "metadata": {},
   "outputs": [
    {
     "name": "stdout",
     "output_type": "stream",
     "text": [
      "122 142 3\n",
      "Wall time: 2.58 ms\n"
     ]
    }
   ],
   "source": [
    "%%time\n",
    "decomposed_vig_prime = decompose_vig(vig_prime, p1, p2)\n",
    "\n",
    "print(decomposed_vig_prime.number_of_nodes(), \n",
    "      decomposed_vig_prime.number_of_edges(), \n",
    "      nx.number_connected_components(decomposed_vig_prime))\n",
    "\n",
    "#draw_graph(decomposed_vig_prime)"
   ]
  },
  {
   "cell_type": "code",
   "execution_count": 10,
   "id": "06145906",
   "metadata": {
    "scrolled": true
   },
   "outputs": [
    {
     "name": "stdout",
     "output_type": "stream",
     "text": [
      "Common variable assignments: [-1 None None ... None 1277 1278]\n",
      "Component: {2, 3, 6, 9, 10, 11, 19, 36, 45, 95, 109, 128, 132, 147, 153, 162, 183, 191, 203, 209, 210, 213, 216, 217, 218, 226, 231, 232, 233, 236, 239, 240, 241, 249, 254, 255, 256, 259, 263, 264, 266, 272, 275, 277, 278, 279, 282, 286, 287, 289, 295, 298, 300, 301, 302, 305, 306, 309, 310, 312, 318, 321, 323, 324, 328, 329, 332, 333, 335, 339, 341, 344, 346, 347, 351, 352, 355, 356, 364, 367, 369, 370, 374, 375, 377, 378, 379, 387, 390, 393, 397, 398, 400, 401, 402, 410}\n",
      "\tSub problem clauses: [{162} {2} {3, 95} {6} {191} {9, 147} {10} {11} {128, 36} {153} {132, 109}\n",
      " {19, 203} {45, 183} {209, -2} {2, -209} {210, -3} {3, -210} {-6, 213}\n",
      " {-213, 6} {216, -9} {-216, 9} {217, -10} {10, -217} {218, -11} {11, -218}\n",
      " {-11, -10, -9} {-95, -109} {226, -19} {19, -226} {-95, -109} {-95, -109}\n",
      " {-95, -109} {-95, -109} {-191, -203} {-95, -302} {-191, -203}\n",
      " {-191, -203} {-191, -203} {-191, -203} {-128, -335} {-132, -339}\n",
      " {-191, -203} {-191, -203} {-191, -203} {-191, -203} {-162, -369}\n",
      " {-191, -203} {-183, -390} {-191, -398} {-203, -410} {-231} {-232, 209, 2}\n",
      " {232, -209} {232, -2} {210, 3, -233} {233, -210} {233, -3} {-236, 213, 6}\n",
      " {-213, 236} {-6, 236} {216, -239, 9} {-216, 239} {239, -9}\n",
      " {-240, 217, 10} {240, -217} {240, -10} {218, 11, -241} {241, -218}\n",
      " {241, -11} {226, 19, -249} {249, -226} {249, -19} {-254, 231} {-231, 254}\n",
      " {232, -255} {-232, 255} {-256, 233} {256, -233} {236, -259} {259, -236}\n",
      " {-239} {240, -263} {-240, 263} {-264, 241} {264, -241} {36, -266}\n",
      " {266, -36} {-272, 249} {272, -249} {-275, 45} {275, -45} {-277, 254}\n",
      " {-254, 277} {-278, 255} {-255, 278} {256, -279} {-256, 279} {259, -282}\n",
      " {282, -259} {-286, 263} {-263, 286} {264, -287} {-264, 287} {266, -289}\n",
      " {289, -266} {272, -295} {-272, 295} {275, -298} {298, -275} {-300, 277}\n",
      " {-277, 300} {-301, 278} {-278, 301} {-302, 279} {-279, 302} {282, -305}\n",
      " {305, -282} {-306} {-309, 286} {-286, 309} {-310, 287} {-287, 310}\n",
      " {-312, 289} {312, -289} {-318, 295} {-295, 318} {298, -321} {321, -298}\n",
      " {300, -323} {323, -300} {-324, 301} {-301, 324} {302, 95} {-328, 305}\n",
      " {328, -305} {306, -329} {329, -306} {-128, -132} {-332, 309} {-309, 332}\n",
      " {-128, -132} {-333, 310} {-310, 333} {312, -335} {-312, 335} {-128, -132}\n",
      " {-128, -132} {109, -339} {339, -109} {-341, 318} {-318, 341} {-128, -132}\n",
      " {-344, 321} {344, -321} {-128, -132} {323, -346} {346, -323} {324, -347}\n",
      " {347, -324} {-128, -132} {-128, -132} {328, -351} {-328, 351} {-352, 329}\n",
      " {352, -329} {-128, -132} {332, -355} {355, -332} {-356, 333} {-333, 356}\n",
      " {128, 335} {339, 132} {-364, 341} {-341, 364} {344, -367} {-344, 367}\n",
      " {-6, -10} {346, -369} {369, -346} {347, -370} {370, -347} {-6, -11}\n",
      " {-374, 351} {-351, 374} {352, -375} {-352, 375} {147, -377} {377, -147}\n",
      " {355, -378} {378, -355} {356, -379} {379, -356} {-6, -10, -9} {153}\n",
      " {-6, -11, -9} {364, -387} {387, -364} {-390, 367} {-367, 390} {369, 162}\n",
      " {-6, -11, -10} {370, -393} {393, -370} {-397, 374} {-374, 397}\n",
      " {-398, 375} {-375, 398} {-400, 377} {400, -377} {378, -401} {401, -378}\n",
      " {379, -402} {402, -379} {387, -410} {410, -387} {390, 183} {-3, -2}\n",
      " {-6, -3, -2} {-3, -2} {-3, -2, -9} {-3, -2, -10} {-128, -132}\n",
      " {-3, -11, -2} {-128, -132} {-128, -132} {-128, -132} {-3, -2}\n",
      " {-3, -19, -2} {-3, -2} {-183, -162} {-3, -2} {-183, -162} {-183, -162}\n",
      " {-183, -162} {-45, -36} {-183, -162} {-45, -36} {-183, -162} {-45, -36}\n",
      " {-45, -36} {-45, -36} {-147, -153} {-147, -153} {-147, -153} {-147, -153}\n",
      " {-45, -36} {-45, -36} {-45, -36} {-45, -36} {-45, -36} {-45, -36}\n",
      " {-95, -109} {-95, -109} {-95, -109} {-95, -109} {-95, -109} {-95, -109}\n",
      " {-95, -109} {-95, -109} {-147, -153} {-147, -153} {-147, -153}\n",
      " {-147, -153} {-147, -153} {-147, -153} {-147, -153} {-10, -9} {-11, -9}\n",
      " {-183, -162} {-183, -162} {-191, -203} {-183, -162} {-191, -203}\n",
      " {-183, -162} {-191, -203} {-183, -162} {-191, -203} {-183, -162}\n",
      " {-191, -203} {-183, -162} {-191, -203} {-19} {-183, -162} {-191, -203}\n",
      " {-191, -203}]\n",
      "\tP1 Score: 278, P2 Score: 280\n",
      "Component: {384, 407, 357, 361, 334, 81, 338, 403, 85, 311, 315, 380}\n",
      "\tSub problem clauses: [{380, -403} {403, -380} {384, -407} {-384, 407} {81} {81, -311}\n",
      " {311, -81} {85} {-315, 85} {315, -85} {-334, 311} {-311, 334} {315, -338}\n",
      " {338, -315} {-85, -81} {-85, -81} {-85, -81} {-85, -81} {-85, -81}\n",
      " {-85, -81} {-85, -81} {-85, -81} {-85, -81} {-357, 334} {-334, 357}\n",
      " {338, -361} {361, -338} {-380, 357} {-357, 380} {-384, 361} {384, -361}]\n",
      "\tP1 Score: 30, P2 Score: 30\n",
      "Component: {290, 322, 414, 69, 359, 345, 391, 299, 336, 368, 405, 313, 60, 382}\n",
      "\tSub problem clauses: [{-405, 382} {-382, 405} {60} {290, -313} {313, -290} {-414, 391}\n",
      " {-391, 414} {69} {299, -322} {322, -299} {-336, 313} {336, -313}\n",
      " {322, -345} {345, -322} {-69, -60} {-69, -60} {-69, -60} {-69, -60}\n",
      " {-69, -60} {-69, -60} {-69, -60} {-69, -60} {-69, -60} {-69, -60}\n",
      " {-69, -60} {-69, -60} {-69, -60} {336, -359} {-69, -60} {-336, 359}\n",
      " {-69, -60} {-69, -60} {-368, 345} {368, -345} {-382, 359} {-359, 382}\n",
      " {60, -290} {290, -60} {368, -391} {-368, 391} {-299, 69} {299, -69}]\n",
      "\tP1 Score: 41, P2 Score: 41\n",
      "Solution after recombination: [-1 -2 3 ... None 1277 1278]\n",
      "Filling in None spots with assignments from P1\n",
      "\n",
      "New Solution: [-1 -2 3 ... -1276 1277 1278]\n",
      "New Solution Score: 68047\n",
      "Remaining Unsatisfied Clauses: [{2, 163, 71, 140, 48, 117, 25, 186, 94}\n",
      " {97, 5, 166, 74, 143, 51, 120, 28, 189}\n",
      " {33, 194, 102, 10, 171, 79, 148, 56, 125}\n",
      " {34, 195, 103, 11, 172, 80, 149, 57, 126}\n",
      " {35, 196, 104, 12, 173, 81, 150, 58, 127}\n",
      " {161, 69, 138, 46, 207, 115, 23, 184, 92} {-239, 262} {-21, -20, -19}]\n",
      "Wall time: 317 ms\n"
     ]
    }
   ],
   "source": [
    "%%time\n",
    "new_solution_prime = partition_crossover(decomposed_sat, decomposed_vig_prime, p1, p2, none_fill='p1', verbose=2)\n",
    "\n",
    "print('')\n",
    "print(f'New Solution: {new_solution_prime}')\n",
    "print(f'New Solution Score: {sat.score_solution(new_solution_prime)}')\n",
    "print(f'Remaining Unsatisfied Clauses: {sat.clauses[~sat.evaluate_solution(new_solution_prime)]}')"
   ]
  },
  {
   "cell_type": "code",
   "execution_count": null,
   "id": "ca2926ea",
   "metadata": {},
   "outputs": [],
   "source": [
    "old_method_unsat = set(np.argwhere(~sat.evaluate_solution(new_solution)).flatten().tolist())\n",
    "new_method_unsat = set(np.argwhere(~sat.evaluate_solution(new_solution_prime)).flatten().tolist())\n",
    "clauses_of_interest = list(new_method_unsat - old_method_unsat)\n",
    "print(clauses_of_interest)\n",
    "print(sat.clauses[clauses_of_interest])\n",
    "\n",
    "vars_of_interest = get_unique_vars(sat.clauses[clauses_of_interest])\n",
    "print(vars_of_interest)\n",
    "\n",
    "print(f'P1  Assignments: {get_assignments(p1, vars_of_interest)}')\n",
    "print(f'P2  Assignments: {get_assignments(p2, vars_of_interest)}')\n",
    "print(f'NS  Assignments: {get_assignments(new_solution, vars_of_interest)}')\n",
    "print(f'NS* Assignments: {get_assignments(new_solution_prime, vars_of_interest)}')"
   ]
  },
  {
   "cell_type": "code",
   "execution_count": null,
   "id": "c86cab51",
   "metadata": {},
   "outputs": [],
   "source": [
    "get_unique_vars(sat.clauses[list(sat.clauses_with_variables([2865]))])"
   ]
  },
  {
   "cell_type": "markdown",
   "id": "fc011096",
   "metadata": {},
   "source": [
    "# PX Prime on P2"
   ]
  },
  {
   "cell_type": "code",
   "execution_count": null,
   "id": "5fdbe3b0",
   "metadata": {},
   "outputs": [],
   "source": [
    "%%time\n",
    "decomposed_sat, iterations = decompose_problem(sat, p1, p2, p1_unsat, p2_unsat, init_method='p2', verbose=1)\n",
    "\n",
    "#print('')\n",
    "#print(decomposed_sat.clauses)\n",
    "#print(decomposed_sat.unique_vars)\n",
    "\n",
    "decomposed_sat"
   ]
  },
  {
   "cell_type": "code",
   "execution_count": null,
   "id": "d646c309",
   "metadata": {},
   "outputs": [],
   "source": [
    "%%time\n",
    "vig_prime = get_vig(decomposed_sat, verbose=False)\n",
    "\n",
    "print(vig_prime.number_of_nodes(), \n",
    "      vig_prime.number_of_edges(), \n",
    "      nx.number_connected_components(vig_prime))\n",
    "\n",
    "#draw_graph(vig_prime)"
   ]
  },
  {
   "cell_type": "code",
   "execution_count": null,
   "id": "b7e0e4c1",
   "metadata": {},
   "outputs": [],
   "source": [
    "%%time\n",
    "decomposed_vig_prime = decompose_vig(vig_prime, p1, p2)\n",
    "\n",
    "print(decomposed_vig_prime.number_of_nodes(), \n",
    "      decomposed_vig_prime.number_of_edges(), \n",
    "      nx.number_connected_components(decomposed_vig_prime))\n",
    "\n",
    "#draw_graph(decomposed_vig_prime)"
   ]
  },
  {
   "cell_type": "code",
   "execution_count": null,
   "id": "7aa1d31f",
   "metadata": {},
   "outputs": [],
   "source": [
    "%%time\n",
    "new_solution_prime = partition_crossover(decomposed_sat, decomposed_vig_prime, p1, p2, none_fill='p2', verbose=2)\n",
    "\n",
    "print('')\n",
    "print(f'New Solution: {new_solution_prime}')\n",
    "print(f'New Solution Score: {sat.score_solution(new_solution_prime)}')\n",
    "print(f'Remaining Unsatisfied Clauses: {sat.clauses[~sat.evaluate_solution(new_solution_prime)]}')"
   ]
  },
  {
   "cell_type": "markdown",
   "id": "e3221d7d",
   "metadata": {},
   "source": [
    "# PX Prime on XOR"
   ]
  },
  {
   "cell_type": "code",
   "execution_count": null,
   "id": "584d4dad",
   "metadata": {},
   "outputs": [],
   "source": [
    "%%time\n",
    "decomposed_sat, iterations = decompose_problem(sat, p1, p2, p1_unsat, p2_unsat, init_method='xor', verbose=1)\n",
    "\n",
    "#print('')\n",
    "#print(decomposed_sat.clauses)\n",
    "#print(decomposed_sat.unique_vars)\n",
    "\n",
    "decomposed_sat"
   ]
  },
  {
   "cell_type": "code",
   "execution_count": null,
   "id": "330e9b3b",
   "metadata": {},
   "outputs": [],
   "source": [
    "%%time\n",
    "vig_prime = get_vig(decomposed_sat, verbose=False)\n",
    "\n",
    "print(vig_prime.number_of_nodes(), \n",
    "      vig_prime.number_of_edges(), \n",
    "      nx.number_connected_components(vig_prime))\n",
    "\n",
    "#draw_graph(vig_prime)"
   ]
  },
  {
   "cell_type": "code",
   "execution_count": null,
   "id": "a1bce996",
   "metadata": {},
   "outputs": [],
   "source": [
    "%%time\n",
    "decomposed_vig_prime = decompose_vig(vig_prime, p1, p2)\n",
    "\n",
    "print(decomposed_vig_prime.number_of_nodes(), \n",
    "      decomposed_vig_prime.number_of_edges(), \n",
    "      nx.number_connected_components(decomposed_vig_prime))\n",
    "\n",
    "#draw_graph(decomposed_vig_prime)"
   ]
  },
  {
   "cell_type": "code",
   "execution_count": null,
   "id": "b873f704",
   "metadata": {},
   "outputs": [],
   "source": [
    "%%time\n",
    "new_solution_prime = partition_crossover(decomposed_sat, decomposed_vig_prime, p1, p2, none_fill='p1', verbose=2)\n",
    "\n",
    "print('')\n",
    "print(f'New Solution: {new_solution_prime}')\n",
    "print(f'New Solution Score: {sat.score_solution(new_solution_prime)}')\n",
    "print(f'Remaining Unsatisfied Clauses: {sat.clauses[~sat.evaluate_solution(new_solution_prime)]}')"
   ]
  }
 ],
 "metadata": {
  "kernelspec": {
   "display_name": "Python 3",
   "language": "python",
   "name": "python3"
  },
  "language_info": {
   "codemirror_mode": {
    "name": "ipython",
    "version": 3
   },
   "file_extension": ".py",
   "mimetype": "text/x-python",
   "name": "python",
   "nbconvert_exporter": "python",
   "pygments_lexer": "ipython3",
   "version": "3.8.8"
  }
 },
 "nbformat": 4,
 "nbformat_minor": 5
}
