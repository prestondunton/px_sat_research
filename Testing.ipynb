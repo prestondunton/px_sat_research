{
 "cells": [
  {
   "cell_type": "markdown",
   "id": "0c9ef91e",
   "metadata": {},
   "source": [
    "# Imports"
   ]
  },
  {
   "cell_type": "code",
   "execution_count": 1,
   "id": "490abcfd",
   "metadata": {},
   "outputs": [],
   "source": [
    "from sat import *\n",
    "from px import *\n",
    "from run_px_experiments import parse_output\n",
    "\n",
    "import networkx as nx\n",
    "import matplotlib.pyplot as plt\n",
    "import numpy as np\n",
    "\n",
    "#PROBLEM_FILE = './toy_sat_problems/toy_sat1.cnf'\n",
    "#SOLUTIONS_FILE = './toy_sat_problems/toy_sat_1_solutions.txt'\n",
    "\n",
    "#PROBLEM_FILE = './toy_sat_problems/toy_sat2.cnf'\n",
    "#SOLUTIONS_FILE = './toy_sat_problems/toy_sat_2_solutions.txt'\n",
    "\n",
    "#PROBLEM_FILE = './toy_sat_problems/toy_sat3.cnf'\n",
    "#SOLUTIONS_FILE = './toy_sat_problems/toy_sat_3_solutions.txt'\n",
    "\n",
    "PROBLEM_FILE = './toy_sat_problems/paper_example.cnf'\n",
    "SOLUTIONS_FILE = './toy_sat_problems/paper_example_solutions.txt'\n",
    "\n",
    "#PROBLEM_FILE = './sat_problems/trial_problems/rbcl_xits_08_UNSAT.cnf'\n",
    "#SOLUTIONS_FILE = './results/ubcsat_outputs/rbcl_xits_08_UNSAT.txt'"
   ]
  },
  {
   "cell_type": "code",
   "execution_count": 2,
   "id": "f0362d26",
   "metadata": {},
   "outputs": [],
   "source": [
    "def draw_graph(graph, node_size=400):\n",
    "    nx.draw(graph, with_labels=True, node_color='white', node_size=node_size)\n",
    "    ax = plt.gca() # to get the current axis\n",
    "    ax.collections[0].set_edgecolor(\"#000000\") "
   ]
  },
  {
   "cell_type": "markdown",
   "id": "dce6de0d",
   "metadata": {},
   "source": [
    "# Load Problems / Solutions"
   ]
  },
  {
   "cell_type": "code",
   "execution_count": 36,
   "id": "5eed12f2",
   "metadata": {},
   "outputs": [
    {
     "name": "stdout",
     "output_type": "stream",
     "text": [
      "Clause #, Variables\n",
      "0 {2, -3, -1}\n",
      "1 {2, -4, -3}\n",
      "2 {3, -4, 5}\n",
      "3 {-4, 5, 6}\n",
      "4 {-7, 5, 6}\n",
      "5 {-7, 6, 23}\n",
      "6 {-8, 9, -10}\n",
      "7 {-8, 9, 22}\n",
      "8 {-8, -10, 23}\n",
      "9 {11, -12, -13}\n",
      "10 {-22, 11, -13}\n",
      "11 {11, -20, 21}\n",
      "12 {-22, 11, 21}\n",
      "13 {24, -15, 14}\n",
      "14 {16, 14, -17}\n",
      "15 {16, -15, -17}\n",
      "16 {16, 20, -17}\n",
      "17 {18, 21, -19}\n",
      "\n",
      "Variable #, Clauses\n",
      "{2: [0, 1], 3: [0, 1, 2], 1: [0], 4: [1, 2, 3], 5: [2, 3, 4], 6: [3, 4, 5], 7: [4, 5], 23: [5, 8], 8: [6, 7, 8], 9: [6, 7], 10: [6, 8], 22: [7, 10, 12], 11: [9, 10, 11, 12], 12: [9], 13: [9, 10], 20: [11, 16], 21: [11, 12, 17], 24: [13], 15: [13, 15], 14: [13, 14], 16: [14, 15, 16], 17: [14, 15, 16], 18: [17], 19: [17]}\n",
      "\n",
      "Unique Variables\n",
      "{1, 2, 3, 4, 5, 6, 7, 8, 9, 10, 11, 12, 13, 14, 15, 16, 17, 18, 19, 20, 21, 22, 23, 24}\n",
      "Wall time: 964 µs\n"
     ]
    },
    {
     "data": {
      "text/plain": [
       "SAT(n = 24, m = 18, k = 3, name = 'paper_example.cnf')"
      ]
     },
     "execution_count": 36,
     "metadata": {},
     "output_type": "execute_result"
    }
   ],
   "source": [
    "%%time\n",
    "sat = read_sat_problem(PROBLEM_FILE)\n",
    "\n",
    "print('Clause #, Variables')\n",
    "for i in range(len(sat.clauses)):\n",
    "    print(i, sat.clauses[i])\n",
    "\n",
    "print('\\nVariable #, Clauses')\n",
    "sat.create_var_to_clause_dict()\n",
    "print(sat.var_to_clause_dict)\n",
    "\n",
    "print('\\nUnique Variables')\n",
    "print(sat.unique_vars)\n",
    "\n",
    "sat"
   ]
  },
  {
   "cell_type": "code",
   "execution_count": 4,
   "id": "a022e95a",
   "metadata": {},
   "outputs": [
    {
     "data": {
      "text/plain": [
       "\"%%time\\nsolutions = parse_output(SOLUTIONS_FILE)\\n\\nprint(solutions.shape)\\n\\np1 = solutions[16]\\np2 = solutions[17]\\n\\np1_unsat = np.argwhere(~(sat.evaluate_solution(p1))).flatten()\\np2_unsat = np.argwhere(~(sat.evaluate_solution(p2))).flatten()\\nprint(f'P1 Unsat: {len(p1_unsat)}')\\nprint(f'P2 Unsat: {len(p2_unsat)}')\\n\\nprint('')\\nprint(f'P1 Score: {sat.score_solution(p1)}')\\nprint(f'P2 Score: {sat.score_solution(p2)}')\\n\\nassert(sat.m - sat.score_solution(p1) == len(p1_unsat))\\nassert(sat.m - sat.score_solution(p2) == len(p2_unsat))\""
      ]
     },
     "execution_count": 4,
     "metadata": {},
     "output_type": "execute_result"
    }
   ],
   "source": [
    "\"\"\"%%time\n",
    "solutions = parse_output(SOLUTIONS_FILE)\n",
    "\n",
    "print(solutions.shape)\n",
    "\n",
    "p1 = solutions[16]\n",
    "p2 = solutions[17]\n",
    "\n",
    "p1_unsat = np.argwhere(~(sat.evaluate_solution(p1))).flatten()\n",
    "p2_unsat = np.argwhere(~(sat.evaluate_solution(p2))).flatten()\n",
    "print(f'P1 Unsat: {len(p1_unsat)}')\n",
    "print(f'P2 Unsat: {len(p2_unsat)}')\n",
    "\n",
    "print('')\n",
    "print(f'P1 Score: {sat.score_solution(p1)}')\n",
    "print(f'P2 Score: {sat.score_solution(p2)}')\n",
    "\n",
    "assert(sat.m - sat.score_solution(p1) == len(p1_unsat))\n",
    "assert(sat.m - sat.score_solution(p2) == len(p2_unsat))\"\"\""
   ]
  },
  {
   "cell_type": "code",
   "execution_count": 37,
   "id": "aa6fa7b3",
   "metadata": {},
   "outputs": [
    {
     "name": "stdout",
     "output_type": "stream",
     "text": [
      "P1 Bitstring: 010000110010000011011111\n",
      "P2 Bitstring: 101111001101111100111111\n",
      "\n",
      "P1 Assignments: [-1, 2, -3, -4, -5, -6, 7, 8, -9, -10, 11, -12, -13, -14, -15, -16, 17, 18, -19, 20, 21, 22, 23, 24]\n",
      "P2 Assignments: [1, -2, 3, 4, 5, 6, -7, -8, 9, 10, -11, 12, 13, 14, 15, 16, -17, -18, 19, 20, 21, 22, 23, 24]\n",
      "\n",
      "P1 Unsat Clauses: [ 4 14], [{-7, 5, 6} {16, 14, -17}]\n",
      "P2 Unsat Clauses: [ 0  1  9 10], [{2, -3, -1} {2, -4, -3} {11, -12, -13} {-22, 11, -13}]\n",
      "\n",
      "P1 Score: 16\n",
      "P2 Score: 14\n"
     ]
    }
   ],
   "source": [
    "with open(SOLUTIONS_FILE) as solutions_file:\n",
    "    solutions = [line.strip() for line in solutions_file.readlines()]\n",
    "    \n",
    "print(f'P1 Bitstring: {solutions[0]}')\n",
    "print(f'P2 Bitstring: {solutions[1]}')\n",
    "print('')\n",
    "\n",
    "p1 = bitstring_to_int_array(solutions[0])\n",
    "p2 = bitstring_to_int_array(solutions[1])\n",
    "print(f'P1 Assignments: {p1}')\n",
    "print(f'P2 Assignments: {p2}')\n",
    "print('')\n",
    "\n",
    "p1_unsat = np.argwhere(~(sat.evaluate_solution(p1))).flatten()\n",
    "p2_unsat = np.argwhere(~(sat.evaluate_solution(p2))).flatten()\n",
    "print(f'P1 Unsat Clauses: {p1_unsat}, {sat.clauses[p1_unsat]}')\n",
    "print(f'P2 Unsat Clauses: {p2_unsat}, {sat.clauses[p2_unsat]}')\n",
    "print('')\n",
    "\n",
    "print(f'P1 Score: {sat.score_solution(p1)}')\n",
    "print(f'P2 Score: {sat.score_solution(p2)}')"
   ]
  },
  {
   "cell_type": "markdown",
   "id": "728f2e10",
   "metadata": {},
   "source": [
    "# PX"
   ]
  },
  {
   "cell_type": "code",
   "execution_count": 38,
   "id": "85d6a6ca",
   "metadata": {},
   "outputs": [
    {
     "name": "stdout",
     "output_type": "stream",
     "text": [
      "24 42 1\n",
      "Wall time: 33.9 ms\n"
     ]
    },
    {
     "data": {
      "image/png": "[encoded data removed]",
      "text/plain": [
       "<Figure size 432x288 with 1 Axes>"
      ]
     },
     "metadata": {},
     "output_type": "display_data"
    }
   ],
   "source": [
    "%%time\n",
    "vig = get_vig(sat)\n",
    "\n",
    "print(vig.number_of_nodes(), \n",
    "      vig.number_of_edges(), \n",
    "      nx.number_connected_components(vig))\n",
    "\n",
    "draw_graph(vig)"
   ]
  },
  {
   "cell_type": "code",
   "execution_count": 39,
   "id": "1ded9638",
   "metadata": {},
   "outputs": [
    {
     "name": "stdout",
     "output_type": "stream",
     "text": [
      "19 24 5\n",
      "Wall time: 29.9 ms\n"
     ]
    },
    {
     "data": {
      "image/png": "[encoded data removed]",
      "text/plain": [
       "<Figure size 432x288 with 1 Axes>"
      ]
     },
     "metadata": {},
     "output_type": "display_data"
    }
   ],
   "source": [
    "%%time\n",
    "decomposed_vig = decompose_vig(vig, p1, p2)\n",
    "\n",
    "print(decomposed_vig.number_of_nodes(), \n",
    "      decomposed_vig.number_of_edges(), \n",
    "      nx.number_connected_components(decomposed_vig))\n",
    "\n",
    "draw_graph(decomposed_vig)"
   ]
  },
  {
   "cell_type": "code",
   "execution_count": 40,
   "id": "5ba523d4",
   "metadata": {},
   "outputs": [
    {
     "name": "stdout",
     "output_type": "stream",
     "text": [
      "Common variable assignments: [None None None None None None None None None None None None None None\n",
      " None None None None None 20 21 22 23 24]\n",
      "Component: {1, 2, 3, 4, 5, 6, 7}\n",
      "\tSub problem clauses: [{2, -3, -1} {2, -4, -3} {3, -4, 5} {-4, 5, 6} {-7, 5, 6} {-7, 6, 23}]\n",
      "\tP1 Score: 5, P2 Score: 4\n",
      "Component: {8, 9, 10}\n",
      "\tSub problem clauses: [{-8, -10, 23} {-8, 9, -10} {-8, 9, 22}]\n",
      "\tP1 Score: 3, P2 Score: 3\n",
      "Component: {11, 12, 13}\n",
      "\tSub problem clauses: [{11, -12, -13} {-22, 11, -13} {11, -20, 21} {-22, 11, 21}]\n",
      "\tP1 Score: 4, P2 Score: 2\n",
      "Component: {16, 17, 14, 15}\n",
      "\tSub problem clauses: [{16, 20, -17} {24, -15, 14} {16, 14, -17} {16, -15, -17}]\n",
      "\tP1 Score: 3, P2 Score: 4\n",
      "Component: {18, 19}\n",
      "\tSub problem clauses: [{18, 21, -19}]\n",
      "\tP1 Score: 1, P2 Score: 1\n",
      "Solution after recombination: [-1 2 -3 -4 -5 -6 7 8 -9 -10 11 -12 -13 14 15 16 -17 18 -19 20 21 22 23 24]\n",
      "Filling in None spots with assignments from P1\n",
      "\n",
      "New Solution: [-1 2 -3 -4 -5 -6 7 8 -9 -10 11 -12 -13 14 15 16 -17 18 -19 20 21 22 23 24]\n",
      "New Solution Score: 17\n",
      "Remaining Unsatisfied Clauses: [{-7, 5, 6}]\n",
      "Wall time: 1.97 ms\n"
     ]
    }
   ],
   "source": [
    "%%time\n",
    "new_solution = partition_crossover(sat, decomposed_vig, p1, p2, none_fill='p1', verbose=2)\n",
    "\n",
    "print('')\n",
    "print(f'New Solution: {new_solution}')\n",
    "print(f'New Solution Score: {sat.score_solution(new_solution)}')\n",
    "print(f'Remaining Unsatisfied Clauses: {sat.clauses[~sat.evaluate_solution(new_solution)]}')"
   ]
  },
  {
   "cell_type": "code",
   "execution_count": 122,
   "id": "000fef78",
   "metadata": {},
   "outputs": [
    {
     "data": {
      "text/plain": [
       "'010000110010011101011111'"
      ]
     },
     "execution_count": 122,
     "metadata": {},
     "output_type": "execute_result"
    }
   ],
   "source": [
    "s = ''\n",
    "for bit in [0 if var < 0 else 1 for var in new_solution]:\n",
    "    s += str(bit)\n",
    "    \n",
    "s"
   ]
  },
  {
   "cell_type": "markdown",
   "id": "0b1eac7f",
   "metadata": {},
   "source": [
    "# PX Prime on P1"
   ]
  },
  {
   "cell_type": "code",
   "execution_count": 41,
   "id": "9f3459e5",
   "metadata": {},
   "outputs": [
    {
     "name": "stdout",
     "output_type": "stream",
     "text": [
      "[3,4] Length of Init SWAPC: 2\n",
      "[3,4] Init SWAPC: {4, 14}\n",
      "[5] Length of Init VAR: 6\n",
      "[5] Init VAR: {5, 6, 7, 14, 16, 17}\n",
      "[5] Length of No Common Variables VAR: 6\n",
      "[5] No Common Variables VAR: {5, 6, 7, 14, 16, 17}\n",
      "Length of sat_by_common: 8\n",
      "sat_by_common: {5, 7, 8, 11, 12, 13, 16, 17}\n",
      "[6] Length of SWAPC: 8\n",
      "[6] SWAPC: {2, 3, 4, 5, 13, 14, 15, 16}\n",
      "[7] Length of SWAPC: 5\n",
      "[7] SWAPC: {2, 3, 4, 14, 15}\n",
      "[8] Length of VAR: 9\n",
      "[8] VAR: {3, 4, 5, 6, 7, 14, 15, 16, 17}\n",
      "[6] Length of SWAPC: 10\n",
      "[6] SWAPC: {0, 1, 2, 3, 4, 5, 13, 14, 15, 16}\n",
      "[7] Length of SWAPC: 7\n",
      "[7] SWAPC: {0, 1, 2, 3, 4, 14, 15}\n",
      "[8] Length of VAR: 11\n",
      "[8] VAR: {1, 2, 3, 4, 5, 6, 7, 14, 15, 16, 17}\n",
      "[6] Length of SWAPC: 10\n",
      "[6] SWAPC: {0, 1, 2, 3, 4, 5, 13, 14, 15, 16}\n",
      "[7] Length of SWAPC: 7\n",
      "[7] SWAPC: {0, 1, 2, 3, 4, 14, 15}\n",
      "[8] Length of VAR: 11\n",
      "[8] VAR: {1, 2, 3, 4, 5, 6, 7, 14, 15, 16, 17}\n",
      "Loop ran 3 times\n",
      "\n",
      "[{2, -3, -1} {2, -4, -3} {3, -4, 5} {-4, 5, 6} {-7, 5, 6} {16, 14, -17}\n",
      " {16, -15, -17}]\n",
      "{1, 2, 3, 4, 5, 6, 7, 14, 15, 16, 17}\n",
      "Wall time: 1.01 ms\n"
     ]
    },
    {
     "data": {
      "text/plain": [
       "SAT(n = 11, m = 7, k = 3, name = 'decomposed_paper_example.cnf')"
      ]
     },
     "execution_count": 41,
     "metadata": {},
     "output_type": "execute_result"
    }
   ],
   "source": [
    "%%time\n",
    "decomposed_sat, iterations = decompose_problem(sat, p1, p2, p1_unsat, p2_unsat, init_method='p1', verbose=2)\n",
    "\n",
    "print('')\n",
    "print(decomposed_sat.clauses)\n",
    "print(decomposed_sat.unique_vars)\n",
    "\n",
    "decomposed_sat"
   ]
  },
  {
   "cell_type": "code",
   "execution_count": 42,
   "id": "3c28a56d",
   "metadata": {},
   "outputs": [
    {
     "name": "stdout",
     "output_type": "stream",
     "text": [
      "11 16 2\n",
      "Wall time: 26.4 ms\n"
     ]
    },
    {
     "data": {
      "image/png": "[encoded data removed]",
      "text/plain": [
       "<Figure size 432x288 with 1 Axes>"
      ]
     },
     "metadata": {},
     "output_type": "display_data"
    }
   ],
   "source": [
    "%%time\n",
    "vig_prime = get_vig(decomposed_sat, verbose=False)\n",
    "\n",
    "print(vig_prime.number_of_nodes(), \n",
    "      vig_prime.number_of_edges(), \n",
    "      nx.number_connected_components(vig_prime))\n",
    "\n",
    "draw_graph(vig_prime)"
   ]
  },
  {
   "cell_type": "code",
   "execution_count": 44,
   "id": "c1b87428",
   "metadata": {},
   "outputs": [
    {
     "name": "stdout",
     "output_type": "stream",
     "text": [
      "11 16 2\n",
      "Wall time: 27.9 ms\n"
     ]
    },
    {
     "data": {
      "image/png": "[encoded data removed]",
      "text/plain": [
       "<Figure size 432x288 with 1 Axes>"
      ]
     },
     "metadata": {},
     "output_type": "display_data"
    }
   ],
   "source": [
    "%%time\n",
    "decomposed_vig_prime = decompose_vig(vig_prime, p1, p2)\n",
    "\n",
    "print(decomposed_vig_prime.number_of_nodes(), \n",
    "      decomposed_vig_prime.number_of_edges(), \n",
    "      nx.number_connected_components(decomposed_vig_prime))\n",
    "\n",
    "draw_graph(decomposed_vig_prime)"
   ]
  },
  {
   "cell_type": "code",
   "execution_count": 45,
   "id": "06145906",
   "metadata": {
    "scrolled": true
   },
   "outputs": [
    {
     "name": "stdout",
     "output_type": "stream",
     "text": [
      "Common variable assignments: [None None None None None None None None None None None None None None\n",
      " None None None None None 20 21 22 23 24]\n",
      "Component: {1, 2, 3, 4, 5, 6, 7}\n",
      "\tSub problem clauses: [{2, -3, -1} {2, -4, -3} {3, -4, 5} {-4, 5, 6} {-7, 5, 6}]\n",
      "\tP1 Score: 4, P2 Score: 3\n",
      "Component: {16, 17, 14, 15}\n",
      "\tSub problem clauses: [{16, 14, -17} {16, -15, -17}]\n",
      "\tP1 Score: 1, P2 Score: 2\n",
      "Solution after recombination: [-1 2 -3 -4 -5 -6 7 None None None None None None 14 15 16 -17 None None\n",
      " 20 21 22 23 24]\n",
      "Filling in None spots with assignments from P1\n",
      "\n",
      "New Solution: [-1 2 -3 -4 -5 -6 7 8 -9 -10 11 -12 -13 14 15 16 -17 18 -19 20 21 22 23 24]\n",
      "New Solution Score: 17\n",
      "Remaining Unsatisfied Clauses: [{-7, 5, 6}]\n",
      "Wall time: 997 µs\n"
     ]
    }
   ],
   "source": [
    "%%time\n",
    "new_solution_prime = partition_crossover(decomposed_sat, decomposed_vig_prime, p1, p2, none_fill='p1', verbose=2)\n",
    "\n",
    "print('')\n",
    "print(f'New Solution: {new_solution_prime}')\n",
    "print(f'New Solution Score: {sat.score_solution(new_solution_prime)}')\n",
    "print(f'Remaining Unsatisfied Clauses: {sat.clauses[~sat.evaluate_solution(new_solution_prime)]}')"
   ]
  },
  {
   "cell_type": "markdown",
   "id": "b186c83d",
   "metadata": {},
   "source": [
    "# Drawing Graphs"
   ]
  },
  {
   "cell_type": "code",
   "execution_count": 78,
   "id": "98ad49f5",
   "metadata": {},
   "outputs": [],
   "source": [
    "pos = {\n",
    "    1: (163, 117),\n",
    "    2: (160, 97),\n",
    "    3: (143, 102),\n",
    "    4: (156, 81),\n",
    "    5: (138, 82),\n",
    "    6: (153, 63),\n",
    "    7: (132, 62),\n",
    "    8: (114, 36),\n",
    "    9: (103, 18),\n",
    "    10: (133, 16),\n",
    "    11: (47, 49),\n",
    "    12: (30, 30),\n",
    "    13: (58, 30),\n",
    "    14: (40, 102),\n",
    "    15: (18, 97),\n",
    "    16: (24, 81),\n",
    "    17: (46, 85),\n",
    "    18: (86, 81),\n",
    "    19: (106, 65),\n",
    "    20: (38, 67),\n",
    "    21: (83, 58),\n",
    "    22: (81, 35),\n",
    "    23: (142, 44),\n",
    "    24: (27, 119),\n",
    "}"
   ]
  },
  {
   "cell_type": "code",
   "execution_count": 117,
   "id": "fa162b13",
   "metadata": {},
   "outputs": [
    {
     "data": {
      "text/plain": [
       "<matplotlib.legend.Legend at 0x1f97fa7a4f0>"
      ]
     },
     "execution_count": 117,
     "metadata": {},
     "output_type": "execute_result"
    },
    {
     "data": {
      "image/png": "[encoded data removed]",
      "text/plain": [
       "<Figure size 432x288 with 1 Axes>"
      ]
     },
     "metadata": {},
     "output_type": "display_data"
    }
   ],
   "source": [
    "G = vig_prime\n",
    "\n",
    "colors = []\n",
    "for node in G.nodes():\n",
    "    if node in [5,6,7,14,16,17]:\n",
    "        colors.append('red')\n",
    "    elif node in [3,4,15]:\n",
    "        colors.append('yellow')\n",
    "    else:\n",
    "        colors.append('#4ad451')\n",
    "\n",
    "nx.draw(G, with_labels=True, node_color=colors, node_size=400, pos=pos)\n",
    "ax = plt.gca() # to get the current axis\n",
    "ax.collections[0].set_edgecolor(\"#000000\") \n",
    "ax.set_xlim([10, 170])\n",
    "ax.set_ylim([10, 130])\n",
    "\n",
    "from matplotlib.lines import Line2D\n",
    "custom_lines = [Line2D([0], [0], color='red', lw=4),\n",
    "                Line2D([0], [0], color='yellow', lw=4),\n",
    "                Line2D([0], [0], color='#4ad451', lw=4)]\n",
    "\n",
    "ax.legend(custom_lines, ['Initialization', 'Iteration 1', 'Iteration 2'], loc='lower left', fontsize=16)"
   ]
  }
 ],
 "metadata": {
  "kernelspec": {
   "display_name": "Python 3",
   "language": "python",
   "name": "python3"
  },
  "language_info": {
   "codemirror_mode": {
    "name": "ipython",
    "version": 3
   },
   "file_extension": ".py",
   "mimetype": "text/x-python",
   "name": "python",
   "nbconvert_exporter": "python",
   "pygments_lexer": "ipython3",
   "version": "3.8.8"
  }
 },
 "nbformat": 4,
 "nbformat_minor": 5
}
