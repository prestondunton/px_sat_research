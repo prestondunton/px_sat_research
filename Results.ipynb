{
 "cells": [
  {
   "cell_type": "markdown",
   "id": "e5b91965",
   "metadata": {},
   "source": [
    "# Imports"
   ]
  },
  {
   "cell_type": "code",
   "execution_count": null,
   "id": "8e1f3b7a",
   "metadata": {},
   "outputs": [],
   "source": [
    "from constants import PX_OUTPUT_FOLDER\n",
    "\n",
    "import math\n",
    "import matplotlib.pyplot as plt\n",
    "import numpy as np\n",
    "import os\n",
    "import pandas as pd\n",
    "import seaborn as sns\n",
    "from scipy import stats\n",
    "\n",
    "pd.set_option('display.max_columns', None)\n",
    "pd.set_option('display.max_rows', None)\n",
    "\n",
    "DESCRIBE_PERCENTILES = [0.01, 0.05, 0.1, 0.25, 0.5, 0.75, 0.9, 0.95, 0.99]"
   ]
  },
  {
   "cell_type": "markdown",
   "id": "425fb263",
   "metadata": {},
   "source": [
    "# Data Tables"
   ]
  },
  {
   "cell_type": "code",
   "execution_count": null,
   "id": "b1a28c99",
   "metadata": {},
   "outputs": [],
   "source": [
    "tables = os.listdir(PX_OUTPUT_FOLDER)\n",
    "print(len(tables))\n",
    "#tables"
   ]
  },
  {
   "cell_type": "code",
   "execution_count": null,
   "id": "3b922b9c",
   "metadata": {},
   "outputs": [],
   "source": [
    "count = 0\n",
    "problems = os.listdir('./sat_problems/trial_problems/')\n",
    "for problem in problems:\n",
    "    if problem[:-4] + '.csv' not in tables:\n",
    "        print(problem)\n",
    "        count += 1\n",
    "        \n",
    "count"
   ]
  },
  {
   "cell_type": "code",
   "execution_count": null,
   "id": "0825c1de",
   "metadata": {},
   "outputs": [],
   "source": [
    "crafted_problems = [file.replace('.lzma', '')  for file in os.listdir('./sat_problems/sc14-crafted') if file[0:2] != '._']\n",
    "crafted_problems "
   ]
  },
  {
   "cell_type": "code",
   "execution_count": null,
   "id": "00fd3a7a",
   "metadata": {},
   "outputs": [],
   "source": [
    "application_problems = [file.replace('.lzma', '')  for file in os.listdir('./sat_problems/sc14-app') if file[0:2] != '._']\n",
    "application_problems"
   ]
  },
  {
   "cell_type": "code",
   "execution_count": null,
   "id": "3d9ea7c6",
   "metadata": {},
   "outputs": [],
   "source": [
    "len(crafted_problems), len(application_problems), len(crafted_problems) + len(application_problems) "
   ]
  },
  {
   "cell_type": "markdown",
   "id": "5623711b",
   "metadata": {},
   "source": [
    "# Aggregate Results"
   ]
  },
  {
   "cell_type": "code",
   "execution_count": null,
   "id": "1edf2f4e",
   "metadata": {
    "scrolled": true
   },
   "outputs": [],
   "source": [
    "all_data = pd.DataFrame()\n",
    "\n",
    "for file in os.listdir(PX_OUTPUT_FOLDER):\n",
    "    \n",
    "    table = pd.read_csv(os.path.join(PX_OUTPUT_FOLDER, file), index_col=0)\n",
    "    cnf_filename = file[:-4] + '.cnf'\n",
    "    \n",
    "    table['trial'] = table.index.astype(int)\n",
    "    table['problem'] = cnf_filename\n",
    "    table['problem_type'] = 'crafted' if cnf_filename in crafted_problems else 'application'\n",
    "    \n",
    "    all_data = all_data.append(table, ignore_index=True)\n",
    "    \n",
    "all_data = all_data[['problem', 'trial'] + all_data.columns.drop(['trial', 'problem']).to_list()]\n",
    "\n",
    "for col in ['n', 'm', 'k', 'e', 'c', 'n_H', 'e_H', 'q']:\n",
    "    all_data[f'{col} / {col}*'] = all_data[col] / all_data[f'{col}*']\n",
    "    \n",
    "all_data['P1_UNSAT'] = all_data['m'] - all_data['P1_score']\n",
    "all_data['P2_UNSAT'] = all_data['m'] - all_data['P2_score']\n",
    "all_data['P1%SAT'] = all_data['P1_score'] / all_data['m']\n",
    "all_data['P2%SAT'] = all_data['P2_score'] / all_data['m']\n",
    "all_data['NS%SAT'] = all_data['NS_score'] / all_data['m']\n",
    "all_data['NS*%SAT'] = all_data['NS_score*'] / all_data['m']\n",
    "all_data['improvement'] = all_data['NS_score*'] - all_data['P1_score']\n",
    "all_data['improvement%SAT'] = all_data['improvement'] / all_data['m']\n",
    "\n",
    "\n",
    "\n",
    "all_data['m / n'] = all_data['m'] / all_data['n']\n",
    "\n",
    "all_data.to_csv('./results/all_data.csv')\n",
    "\n",
    "#all_data"
   ]
  },
  {
   "cell_type": "code",
   "execution_count": null,
   "id": "9677eaef",
   "metadata": {},
   "outputs": [],
   "source": [
    "all_data.shape"
   ]
  },
  {
   "cell_type": "code",
   "execution_count": null,
   "id": "90d16339",
   "metadata": {},
   "outputs": [],
   "source": [
    "all_data[(all_data['NS_score'] < all_data['P1_score'])]"
   ]
  },
  {
   "cell_type": "code",
   "execution_count": null,
   "id": "f3ae8c4c",
   "metadata": {},
   "outputs": [],
   "source": [
    "all_data[(all_data['NS_score*'] < all_data['NS_score'])]"
   ]
  },
  {
   "cell_type": "code",
   "execution_count": null,
   "id": "483bbc96",
   "metadata": {},
   "outputs": [],
   "source": [
    "all_data.describe()"
   ]
  },
  {
   "cell_type": "code",
   "execution_count": null,
   "id": "895424d5",
   "metadata": {},
   "outputs": [],
   "source": [
    "all_data[all_data['n'] < 10000].describe()"
   ]
  },
  {
   "cell_type": "markdown",
   "id": "0cd57c65",
   "metadata": {},
   "source": [
    "# Understanding rows with NaN or Inf"
   ]
  },
  {
   "cell_type": "code",
   "execution_count": null,
   "id": "5a886411",
   "metadata": {
    "scrolled": true
   },
   "outputs": [],
   "source": [
    "nan_rows = all_data[all_data.isin([np.nan, np.inf, -np.inf]).any(1)].reset_index()\n",
    "\n",
    "number_of_nan_rows = nan_rows.shape[0]\n",
    "print(number_of_nan_rows)\n",
    "\n",
    "nan_rows"
   ]
  },
  {
   "cell_type": "markdown",
   "id": "72565f71",
   "metadata": {},
   "source": [
    " There are 134 rows with `NaN` or `Inf`.  In 120 of these, the problem was completely solved by local solvers.  In 12 of them, the preprocessor failed because every clause in P1_Unsat was also in P2_Unsat.  There were no clauses to improve upon. The other two had nodes but no edges in the decomposed graph using the new method."
   ]
  },
  {
   "cell_type": "markdown",
   "id": "3f03bdf8",
   "metadata": {},
   "source": [
    "# Saving Results to File"
   ]
  },
  {
   "cell_type": "code",
   "execution_count": null,
   "id": "a5ffe964",
   "metadata": {},
   "outputs": [],
   "source": [
    "problems_tested = all_data.loc[all_data['trial'] == 0, ['problem', 'm', 'n', 'm / n']].reset_index(drop=True)\n",
    "problems_tested.to_csv('./results/problems_tested.csv')\n",
    "problems_tested"
   ]
  },
  {
   "cell_type": "code",
   "execution_count": null,
   "id": "2ed41d6f",
   "metadata": {},
   "outputs": [],
   "source": [
    "problems_tested.describe()"
   ]
  },
  {
   "cell_type": "code",
   "execution_count": null,
   "id": "64d77e28",
   "metadata": {},
   "outputs": [],
   "source": [
    "graph_decomposition = all_data[~all_data.isin([np.nan, np.inf, -np.inf]).any(1)].reset_index(drop=True)\n",
    "\n",
    "column_order = graph_decomposition.columns.tolist()\n",
    "column_order.remove('problem_type')\n",
    "column_order.insert(1, 'problem_type')\n",
    "graph_decomposition = graph_decomposition[column_order]\n",
    "\n",
    "#graph_decomposition = graph_decomposition.sort_values(by=['problem_type', 'n'])\n",
    "\n",
    "graph_decomposition.to_csv('./results/graph_decomposition.csv')\n",
    "\n",
    "graph_decomposition"
   ]
  },
  {
   "cell_type": "code",
   "execution_count": null,
   "id": "e13372ff",
   "metadata": {},
   "outputs": [],
   "source": [
    "graph_decomposition[graph_decomposition['n'] < 10000].describe()"
   ]
  },
  {
   "cell_type": "code",
   "execution_count": null,
   "id": "48b4771c",
   "metadata": {
    "scrolled": true
   },
   "outputs": [],
   "source": [
    "graph_decomposition.describe(percentiles=DESCRIBE_PERCENTILES)"
   ]
  },
  {
   "cell_type": "code",
   "execution_count": null,
   "id": "17f2e6e3",
   "metadata": {},
   "outputs": [],
   "source": [
    "graph_decomposition.sort_values(by=['improvement', 'n'])"
   ]
  },
  {
   "cell_type": "markdown",
   "id": "25c9b504",
   "metadata": {},
   "source": [
    "# Analysis by Size"
   ]
  },
  {
   "cell_type": "code",
   "execution_count": null,
   "id": "18da95ac",
   "metadata": {},
   "outputs": [],
   "source": [
    "plt.figure(figsize=(20,10))\n",
    "sns.scatterplot('n', 'improvement%SAT', hue='problem_type', data=graph_decomposition)\n",
    "plt.legend(fontsize=18)\n",
    "plt.xlabel('Number of Variables (n)', fontsize=24)\n",
    "#plt.ylabel('Normalized Improvement (%SAT)', fontsize=24)\n",
    "plt.ylabel('SAT++ / m', fontsize=24)\n",
    "plt.xticks(fontsize=18)\n",
    "plt.yticks(fontsize=18)"
   ]
  },
  {
   "cell_type": "markdown",
   "id": "8a3a1d44",
   "metadata": {},
   "source": [
    "# Analysis by Type"
   ]
  },
  {
   "cell_type": "code",
   "execution_count": null,
   "id": "b31f2015",
   "metadata": {},
   "outputs": [],
   "source": [
    "application_summary = graph_decomposition[graph_decomposition['problem_type'] == 'application'].describe(percentiles=DESCRIBE_PERCENTILES)\n",
    "application_summary.to_csv('./results/application_summary.csv')\n",
    "\n",
    "application_summary"
   ]
  },
  {
   "cell_type": "code",
   "execution_count": null,
   "id": "55df2548",
   "metadata": {},
   "outputs": [],
   "source": [
    "crafted_summary = graph_decomposition[graph_decomposition['problem_type'] == 'crafted'].describe(percentiles=DESCRIBE_PERCENTILES)\n",
    "crafted_summary.to_csv('./results/crafted_summary.csv')\n",
    "\n",
    "crafted_summary"
   ]
  },
  {
   "cell_type": "markdown",
   "id": "f65b3818",
   "metadata": {},
   "source": [
    "# Data Visualization"
   ]
  },
  {
   "cell_type": "code",
   "execution_count": null,
   "id": "5e32b6c9",
   "metadata": {},
   "outputs": [],
   "source": [
    "graph_decomposition['m / m*'].hist(bins=30)"
   ]
  },
  {
   "cell_type": "code",
   "execution_count": null,
   "id": "47cc976b",
   "metadata": {},
   "outputs": [],
   "source": [
    "plot_data = graph_decomposition[['m', 'n', 'k', 'm*', 'n*', 'k*', 'm / m*', 'n / n*', 'k / k*', 'q / q*', 'iterations', 'P1%SAT']].copy()\n",
    "    \n",
    "plot_data"
   ]
  },
  {
   "cell_type": "code",
   "execution_count": null,
   "id": "ad390806",
   "metadata": {},
   "outputs": [],
   "source": [
    "log_plot_data = pd.DataFrame()\n",
    "for column in plot_data.columns:\n",
    "    log_plot_data[f'log({column})'] = np.log(plot_data[column])\n",
    "    \n",
    "log_plot_data"
   ]
  },
  {
   "cell_type": "code",
   "execution_count": null,
   "id": "ee882f86",
   "metadata": {
    "scrolled": false
   },
   "outputs": [],
   "source": [
    "fig = pd.plotting.scatter_matrix(plot_data, figsize=(15, 15), marker='.', hist_kwds={'bins': 20}, s=60, alpha=.8)"
   ]
  },
  {
   "cell_type": "code",
   "execution_count": null,
   "id": "13c35c44",
   "metadata": {},
   "outputs": [],
   "source": [
    "plt.figure(figsize=(20,10))\n",
    "m_dots = plt.scatter(graph_decomposition['P1%SAT'], graph_decomposition['NS%SAT'] - graph_decomposition['P1%SAT'], c='red')\n",
    "n_dots = plt.scatter(graph_decomposition['P1%SAT'], graph_decomposition['NS*%SAT'] - graph_decomposition['P1%SAT'], c='black')\n",
    "plt.legend((m_dots, n_dots), labels=['Without Preprocessing', 'With Preprocessing'], fontsize=24, markerscale=3)\n",
    "plt.xlabel('P1 %SAT', fontsize=24)\n",
    "plt.ylabel('New Score %SAT - P1%SAT (Improvement)', fontsize=24)\n",
    "plt.xticks(fontsize=18)\n",
    "plt.yticks(fontsize=18)"
   ]
  },
  {
   "cell_type": "code",
   "execution_count": null,
   "id": "9b57deb7",
   "metadata": {},
   "outputs": [],
   "source": [
    "plt.figure(figsize=(20,10))\n",
    "m_dots = plt.scatter(graph_decomposition['shared_variables'], np.log(graph_decomposition['q']), c='red')\n",
    "n_dots = plt.scatter(graph_decomposition['shared_variables'], np.log(graph_decomposition['q*']), c='black')\n",
    "plt.legend((m_dots, n_dots), labels=['Without Preprocessing', 'With Preprocessing'], fontsize=24, markerscale=3)\n",
    "plt.xlabel('Shared Variables', fontsize=24)\n",
    "plt.ylabel('Components', fontsize=24)\n",
    "plt.xticks(fontsize=18)\n",
    "plt.yticks(fontsize=18)"
   ]
  },
  {
   "cell_type": "code",
   "execution_count": null,
   "id": "0af6b58e",
   "metadata": {
    "scrolled": false
   },
   "outputs": [],
   "source": [
    "fig = pd.plotting.scatter_matrix(log_plot_data, figsize=(15, 15), marker='.', hist_kwds={'bins': 20}, s=60, alpha=.8)"
   ]
  },
  {
   "cell_type": "markdown",
   "id": "61a771a2",
   "metadata": {},
   "source": [
    "# Paper Tables"
   ]
  },
  {
   "cell_type": "code",
   "execution_count": null,
   "id": "300879a2",
   "metadata": {},
   "outputs": [],
   "source": [
    "sat_reduction = graph_decomposition[['n / n*', 'm / m*', 'k / k*', 'iterations']].describe()\n",
    "sat_reduction.drop('count', inplace=True)\n",
    "sat_reduction.to_csv('./results/sat_reduction.csv')\n",
    "sat_reduction"
   ]
  },
  {
   "cell_type": "code",
   "execution_count": null,
   "id": "63e65881",
   "metadata": {},
   "outputs": [],
   "source": [
    "px_graph_reduction = graph_decomposition[['n / n*', 'e / e*', 'c / c*', 'n_H / n_H*', 'e_H / e_H*', 'q / q*']].describe()\n",
    "px_graph_reduction.drop('count', inplace=True)\n",
    "px_graph_reduction.to_csv('./results/px_graph_reduction.csv')\n",
    "px_graph_reduction"
   ]
  }
 ],
 "metadata": {
  "kernelspec": {
   "display_name": "Python 3",
   "language": "python",
   "name": "python3"
  },
  "language_info": {
   "codemirror_mode": {
    "name": "ipython",
    "version": 3
   },
   "file_extension": ".py",
   "mimetype": "text/x-python",
   "name": "python",
   "nbconvert_exporter": "python",
   "pygments_lexer": "ipython3",
   "version": "3.8.8"
  }
 },
 "nbformat": 4,
 "nbformat_minor": 5
}
