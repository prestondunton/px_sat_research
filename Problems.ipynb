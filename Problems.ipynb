{
 "cells": [
  {
   "cell_type": "code",
   "execution_count": null,
   "id": "28c97954",
   "metadata": {},
   "outputs": [],
   "source": [
    "from sat import *\n",
    "\n",
    "import os\n",
    "import pandas as pd\n",
    "import shutil\n",
    "from tqdm.auto import tqdm\n",
    "\n",
    "pd.set_option('display.max_rows', None)\n",
    "pd.set_option('display.max_columns', 500)\n",
    "pd.set_option('display.width', 1000)"
   ]
  },
  {
   "cell_type": "code",
   "execution_count": null,
   "id": "1601f5a2",
   "metadata": {},
   "outputs": [],
   "source": [
    "application_instances = pd.DataFrame(columns=['name', 'n', 'm', 'max_k'])\n",
    "\n",
    "files = [file for file in os.listdir('./sat_problems/sc14-app') if file[0:2] != '._']\n",
    "\n",
    "for file in tqdm(files, leave=False): \n",
    "    print(file, end='\\r')\n",
    "    sat = read_sat_problem(os.path.join('./sat_problems/sc14-app', file))\n",
    "    application_instances = application_instances.append({'name': file, 'n': sat.n, 'm': sat.m, \n",
    "                                                          'max_k': max([len(clause) for clause in sat.clauses])}, \n",
    "                                                         ignore_index=True)\n",
    "        \n",
    "application_instances"
   ]
  },
  {
   "cell_type": "code",
   "execution_count": null,
   "id": "ada3e491",
   "metadata": {},
   "outputs": [],
   "source": [
    "#application_instances.to_csv('./sat_problems/application_instances.csv')"
   ]
  },
  {
   "cell_type": "code",
   "execution_count": null,
   "id": "3618e7ba",
   "metadata": {},
   "outputs": [],
   "source": [
    "crafted_instances = pd.DataFrame(columns=['name', 'n', 'm', 'max_k'])\n",
    "\n",
    "files = [file for file in os.listdir('./sat_problems/sc14-crafted') if file[0:2] != '._']\n",
    "\n",
    "for file in tqdm(files, leave=False): \n",
    "    print(file, end='\\r')\n",
    "    sat = read_sat_problem(os.path.join('./sat_problems/sc14-crafted', file))\n",
    "    crafted_instances = crafted_instances.append({'name': file, 'n': sat.n, 'm': sat.m, \n",
    "                                                          'max_k': max([len(clause) for clause in sat.clauses])}, \n",
    "                                                         ignore_index=True)\n",
    "\n",
    "crafted_instances"
   ]
  },
  {
   "cell_type": "code",
   "execution_count": null,
   "id": "57256122",
   "metadata": {},
   "outputs": [],
   "source": [
    "#crafted_instances.to_csv('./sat_problems/crafted_instances.csv')"
   ]
  },
  {
   "cell_type": "markdown",
   "id": "a47f89ef",
   "metadata": {},
   "source": [
    "# Loading Tables"
   ]
  },
  {
   "cell_type": "code",
   "execution_count": null,
   "id": "bd84db32",
   "metadata": {},
   "outputs": [],
   "source": [
    "application_instances = pd.read_csv('./sat_problems/application_instances.csv', index_col=0)\n",
    "application_instances.sort_values(by=['n', 'm', 'max_k'])"
   ]
  },
  {
   "cell_type": "code",
   "execution_count": null,
   "id": "40ebd463",
   "metadata": {},
   "outputs": [],
   "source": [
    "crafted_instances = pd.read_csv('./sat_problems/crafted_instances.csv', index_col=0)\n",
    "crafted_instances.sort_values(by=['n', 'm', 'max_k'])"
   ]
  },
  {
   "cell_type": "code",
   "execution_count": null,
   "id": "5edf947a",
   "metadata": {
    "scrolled": true
   },
   "outputs": [],
   "source": [
    "all_problems = pd.concat([application_instances, crafted_instances])\n",
    "all_problems['m/n'] = all_problems['m'] / all_problems['n']\n",
    "all_problems['fullness'] = all_problems['m'] / (2**(3**all_problems['n']))\n",
    "all_problems.sort_values(by='m/n')"
   ]
  },
  {
   "cell_type": "markdown",
   "id": "87fbe392",
   "metadata": {},
   "source": [
    "# Selecting Problems for Trials"
   ]
  },
  {
   "cell_type": "code",
   "execution_count": null,
   "id": "3c3390ad",
   "metadata": {},
   "outputs": [],
   "source": [
    "trial_app_instances = application_instances[\n",
    "    (application_instances['n'] > application_instances.quantile(0.0)['n'])\n",
    "    & (application_instances['n'] < application_instances.quantile(0.8)['n'])\n",
    "]['name'].tolist()\n",
    "\n",
    "trial_app_instances"
   ]
  },
  {
   "cell_type": "code",
   "execution_count": null,
   "id": "ce48f5b7",
   "metadata": {},
   "outputs": [],
   "source": [
    "for file in trial_app_instances:\n",
    "    shutil.copyfile(f'./sat_problems/sc14-app/{file}', f'./sat_problems/trial_problems/{file}')"
   ]
  },
  {
   "cell_type": "code",
   "execution_count": null,
   "id": "d45b5a01",
   "metadata": {},
   "outputs": [],
   "source": [
    "trial_craft_instances = crafted_instances[\n",
    "    (crafted_instances['n'] > crafted_instances.quantile(0.0)['n'])\n",
    "    & (crafted_instances['n'] < crafted_instances.quantile(0.8)['n'])\n",
    "]['name'].tolist()\n",
    "\n",
    "trial_craft_instances"
   ]
  },
  {
   "cell_type": "code",
   "execution_count": null,
   "id": "2371d4aa",
   "metadata": {},
   "outputs": [],
   "source": [
    "for file in trial_craft_instances:\n",
    "    shutil.copyfile(f'./sat_problems/sc14-crafted/{file}', f'./sat_problems/trial_problems/{file}')"
   ]
  }
 ],
 "metadata": {
  "kernelspec": {
   "display_name": "Python 3",
   "language": "python",
   "name": "python3"
  },
  "language_info": {
   "codemirror_mode": {
    "name": "ipython",
    "version": 3
   },
   "file_extension": ".py",
   "mimetype": "text/x-python",
   "name": "python",
   "nbconvert_exporter": "python",
   "pygments_lexer": "ipython3",
   "version": "3.8.8"
  }
 },
 "nbformat": 4,
 "nbformat_minor": 5
}
